{
  "nbformat": 4,
  "nbformat_minor": 0,
  "metadata": {
    "colab": {
      "provenance": [],
      "authorship_tag": "ABX9TyPe/npEVOZCWbwYGjVQm73w",
      "include_colab_link": true
    },
    "kernelspec": {
      "name": "python3",
      "display_name": "Python 3"
    },
    "language_info": {
      "name": "python"
    }
  },
  "cells": [
    {
      "cell_type": "markdown",
      "metadata": {
        "id": "view-in-github",
        "colab_type": "text"
      },
      "source": [
        "<a href=\"https://colab.research.google.com/github/larasierrajoaquin/Code_Master/blob/main/Hipote.ipynb\" target=\"_parent\"><img src=\"https://colab.research.google.com/assets/colab-badge.svg\" alt=\"Open In Colab\"/></a>"
      ]
    },
    {
      "cell_type": "code",
      "execution_count": 1,
      "metadata": {
        "colab": {
          "base_uri": "https://localhost:8080/"
        },
        "id": "gRsZFGnN8fYs",
        "outputId": "95237ef1-a4e1-464e-8350-7c1971668dc6"
      },
      "outputs": [
        {
          "output_type": "stream",
          "name": "stdout",
          "text": [
            "Ingrese la longitud del primer cateto: 12\n",
            "Ingrese la longitud del segundo cateto: 10\n",
            "La hipotenusa del triángulo es: 15.62\n"
          ]
        }
      ],
      "source": [
        "\"\"\"\n",
        "Hipotenusa de un triángulo rectángulo\n",
        "Autor: Joaquin Lara Sierra\n",
        "Descripción: Este programa solicita al usuario ingresar las longitudes de los dos catetos de un triángulo rectángulo\n",
        "y calcula la hipotenusa utilizando el teorema de Pitágoras.\n",
        "\"\"\"\n",
        "\n",
        "import math  # Importamos la librería matemática para usar sqrt (raíz cuadrada)\n",
        "\n",
        "def calcular_hipotenusa(cateto1, cateto2):\n",
        "    \"\"\"\n",
        "    Calcula la hipotenusa usando el teorema de Pitágoras\n",
        "    :param cateto1: Longitud del primer cateto\n",
        "    :param cateto2: Longitud del segundo cateto\n",
        "    :return: Valor de la hipotenusa\n",
        "    \"\"\"\n",
        "    return math.sqrt(cateto1**2 + cateto2**2)\n",
        "\n",
        "def main():\n",
        "    # Solicitar los datos al usuario\n",
        "    try:\n",
        "        c1 = float(input(\"Ingrese la longitud del primer cateto: \"))\n",
        "        c2 = float(input(\"Ingrese la longitud del segundo cateto: \"))\n",
        "\n",
        "        # Calcular la hipotenusa\n",
        "        h = calcular_hipotenusa(c1, c2)\n",
        "\n",
        "        # Mostrar el resultado\n",
        "        print(f\"La hipotenusa del triángulo es: {h:.2f}\")\n",
        "\n",
        "    except ValueError:\n",
        "        print(\"⚠️ Error: Por favor, ingrese solo números.\")\n",
        "\n",
        "# Ejecutar el programa\n",
        "if __name__ == \"__main__\":\n",
        "    main()\n"
      ]
    }
  ]
}